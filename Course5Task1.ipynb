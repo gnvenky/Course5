{
 "cells": [
  {
   "cell_type": "code",
   "execution_count": 1,
   "metadata": {},
   "outputs": [],
   "source": [
    "import math"
   ]
  },
  {
   "cell_type": "code",
   "execution_count": 2,
   "metadata": {},
   "outputs": [
    {
     "data": {
      "text/plain": [
       "5.0"
      ]
     },
     "execution_count": 2,
     "metadata": {},
     "output_type": "execute_result"
    }
   ],
   "source": [
    "math.sqrt(25)\n"
   ]
  },
  {
   "cell_type": "code",
   "execution_count": 3,
   "metadata": {},
   "outputs": [],
   "source": [
    "import math as mt"
   ]
  },
  {
   "cell_type": "code",
   "execution_count": 4,
   "metadata": {},
   "outputs": [
    {
     "data": {
      "text/plain": [
       "3.141592653589793"
      ]
     },
     "execution_count": 4,
     "metadata": {},
     "output_type": "execute_result"
    }
   ],
   "source": [
    "mt.pi\n"
   ]
  },
  {
   "cell_type": "code",
   "execution_count": 5,
   "metadata": {},
   "outputs": [],
   "source": [
    "from numpy import random\n"
   ]
  },
  {
   "cell_type": "code",
   "execution_count": 6,
   "metadata": {},
   "outputs": [],
   "source": [
    "import numpy as np"
   ]
  },
  {
   "cell_type": "code",
   "execution_count": 7,
   "metadata": {},
   "outputs": [],
   "source": [
    "import numpy as np"
   ]
  },
  {
   "cell_type": "code",
   "execution_count": 8,
   "metadata": {},
   "outputs": [],
   "source": [
    "dataOne = random.rand(5,5)"
   ]
  },
  {
   "cell_type": "code",
   "execution_count": 9,
   "metadata": {},
   "outputs": [
    {
     "data": {
      "text/plain": [
       "array([[0.44997797, 0.03788636, 0.83148705, 0.76424051, 0.16559212],\n",
       "       [0.77806919, 0.23066124, 0.39537638, 0.55795917, 0.07562189],\n",
       "       [0.52996103, 0.01594992, 0.86711194, 0.05127468, 0.88637003],\n",
       "       [0.83954788, 0.74659518, 0.17202135, 0.96952114, 0.36831807],\n",
       "       [0.50642971, 0.71227572, 0.83771062, 0.01952933, 0.33085656]])"
      ]
     },
     "execution_count": 9,
     "metadata": {},
     "output_type": "execute_result"
    }
   ],
   "source": [
    "dataOne\n"
   ]
  },
  {
   "cell_type": "code",
   "execution_count": 13,
   "metadata": {},
   "outputs": [
    {
     "data": {
      "text/plain": [
       "0.4856138020655723"
      ]
     },
     "execution_count": 13,
     "metadata": {},
     "output_type": "execute_result"
    }
   ],
   "source": [
    "np.mean(dataOne)"
   ]
  },
  {
   "cell_type": "code",
   "execution_count": 12,
   "metadata": {},
   "outputs": [
    {
     "data": {
      "text/plain": [
       "0.10029458223044747"
      ]
     },
     "execution_count": 12,
     "metadata": {},
     "output_type": "execute_result"
    }
   ],
   "source": [
    "np.var(dataOne\n",
    "      )"
   ]
  },
  {
   "cell_type": "code",
   "execution_count": 14,
   "metadata": {},
   "outputs": [
    {
     "data": {
      "text/plain": [
       "0.31669319890147224"
      ]
     },
     "execution_count": 14,
     "metadata": {},
     "output_type": "execute_result"
    }
   ],
   "source": [
    "np.std(dataOne)"
   ]
  },
  {
   "cell_type": "code",
   "execution_count": 16,
   "metadata": {},
   "outputs": [
    {
     "data": {
      "text/plain": [
       "(array([5, 2, 1, 3, 1, 3, 0, 4, 4, 2]),\n",
       " array([0.01594992, 0.11130704, 0.20666416, 0.30202128, 0.39737841,\n",
       "        0.49273553, 0.58809265, 0.68344977, 0.7788069 , 0.87416402,\n",
       "        0.96952114]))"
      ]
     },
     "execution_count": 16,
     "metadata": {},
     "output_type": "execute_result"
    }
   ],
   "source": [
    "np.histogram(dataOne)"
   ]
  },
  {
   "cell_type": "code",
   "execution_count": 21,
   "metadata": {},
   "outputs": [
    {
     "data": {
      "text/plain": [
       "<matplotlib.axes._subplots.AxesSubplot at 0x11ed468d0>"
      ]
     },
     "execution_count": 21,
     "metadata": {},
     "output_type": "execute_result"
    },
    {
     "data": {
      "image/png": "[encoded data removed]",
      "text/plain": [
       "<Figure size 432x288 with 1 Axes>"
      ]
     },
     "metadata": {
      "needs_background": "light"
     },
     "output_type": "display_data"
    }
   ],
   "source": [
    "import pandas as pd\n",
    "import numpy as np\n",
    "import matplotlib.pyplot as plt\n",
    "\n",
    "df = pd.DataFrame(data=dataOne)\n",
    "df.plot.hist(bins = 50)\n"
   ]
  },
  {
   "cell_type": "code",
   "execution_count": 1,
   "metadata": {},
   "outputs": [],
   "source": [
    "variableName = 25"
   ]
  },
  {
   "cell_type": "code",
   "execution_count": 3,
   "metadata": {},
   "outputs": [
    {
     "name": "stdout",
     "output_type": "stream",
     "text": [
      "25\n"
     ]
    }
   ],
   "source": [
    "print (variableName)"
   ]
  },
  {
   "cell_type": "code",
   "execution_count": null,
   "metadata": {},
   "outputs": [],
   "source": [
    "type(variableName)"
   ]
  },
  {
   "cell_type": "code",
   "execution_count": null,
   "metadata": {},
   "outputs": [],
   "source": []
  },
  {
   "cell_type": "code",
   "execution_count": 12,
   "metadata": {},
   "outputs": [
    {
     "name": "stdout",
     "output_type": "stream",
     "text": [
      "25.0\n"
     ]
    }
   ],
   "source": [
    "varOne = 25\n",
    "\n",
    "varTwo = 25.0\n",
    "\n",
    "print (varTwo\n",
    "      )"
   ]
  },
  {
   "cell_type": "code",
   "execution_count": 10,
   "metadata": {},
   "outputs": [],
   "source": [
    "varThree = varOne + varTwo"
   ]
  },
  {
   "cell_type": "code",
   "execution_count": 11,
   "metadata": {},
   "outputs": [
    {
     "name": "stdout",
     "output_type": "stream",
     "text": [
      "50.0\n"
     ]
    }
   ],
   "source": [
    "print (varThree)"
   ]
  },
  {
   "cell_type": "code",
   "execution_count": 47,
   "metadata": {},
   "outputs": [
    {
     "ename": "TypeError",
     "evalue": "unsupported operand type(s) for +: 'int' and 'str'",
     "output_type": "error",
     "traceback": [
      "\u001b[0;31m---------------------------------------------------------------------------\u001b[0m",
      "\u001b[0;31mTypeError\u001b[0m                                 Traceback (most recent call last)",
      "\u001b[0;32m<ipython-input-47-924bc6ce56d1>\u001b[0m in \u001b[0;36m<module>\u001b[0;34m\u001b[0m\n\u001b[1;32m      3\u001b[0m \u001b[0mvarTwo\u001b[0m \u001b[0;34m=\u001b[0m \u001b[0;34m'Hello'\u001b[0m\u001b[0;34m\u001b[0m\u001b[0;34m\u001b[0m\u001b[0m\n\u001b[1;32m      4\u001b[0m \u001b[0;34m\u001b[0m\u001b[0m\n\u001b[0;32m----> 5\u001b[0;31m \u001b[0mvarThree\u001b[0m \u001b[0;34m=\u001b[0m \u001b[0mvarOne\u001b[0m \u001b[0;34m+\u001b[0m \u001b[0mvarTwo\u001b[0m\u001b[0;34m\u001b[0m\u001b[0;34m\u001b[0m\u001b[0m\n\u001b[0m\u001b[1;32m      6\u001b[0m \u001b[0;34m\u001b[0m\u001b[0m\n\u001b[1;32m      7\u001b[0m \u001b[0mprint\u001b[0m \u001b[0;34m(\u001b[0m\u001b[0mvarThree\u001b[0m\u001b[0;34m)\u001b[0m\u001b[0;34m\u001b[0m\u001b[0;34m\u001b[0m\u001b[0m\n",
      "\u001b[0;31mTypeError\u001b[0m: unsupported operand type(s) for +: 'int' and 'str'"
     ]
    }
   ],
   "source": [
    "varOne =  25\n",
    "\n",
    "varTwo = 'Hello'\n",
    "\n",
    "varThree = varOne + varTwo\n",
    "\n",
    "print (varThree)\n",
    "## Correction below\n",
    "varOne = str(25)\n",
    "varThree = varOne + varTwo\n",
    "\n",
    "print (varThree)\n"
   ]
  },
  {
   "cell_type": "code",
   "execution_count": 27,
   "metadata": {},
   "outputs": [],
   "source": [
    "listOne = [1,2,3,4]"
   ]
  },
  {
   "cell_type": "code",
   "execution_count": 29,
   "metadata": {},
   "outputs": [
    {
     "name": "stdout",
     "output_type": "stream",
     "text": [
      "[2, 3]\n"
     ]
    }
   ],
   "source": [
    "print (listOne[1:3])"
   ]
  },
  {
   "cell_type": "code",
   "execution_count": 30,
   "metadata": {},
   "outputs": [],
   "source": [
    "tel = {'jack': 4098, 'sape': 4139}"
   ]
  },
  {
   "cell_type": "code",
   "execution_count": 31,
   "metadata": {},
   "outputs": [
    {
     "name": "stdout",
     "output_type": "stream",
     "text": [
      "4139\n"
     ]
    }
   ],
   "source": [
    "print (tel['sape'])"
   ]
  },
  {
   "cell_type": "code",
   "execution_count": 37,
   "metadata": {},
   "outputs": [],
   "source": [
    "salary = {'april': 10000, 'jack': 9000, 'mac': 3000, 'jake': 2000, 'mike': 1000}"
   ]
  },
  {
   "cell_type": "code",
   "execution_count": 42,
   "metadata": {},
   "outputs": [
    {
     "name": "stdout",
     "output_type": "stream",
     "text": [
      "{'april': 10000, 'jack': 9000, 'mac': 3000, 'jake': 2000, 'mike': 1000}\n"
     ]
    }
   ],
   "source": [
    "print (salary)"
   ]
  },
  {
   "cell_type": "code",
   "execution_count": null,
   "metadata": {},
   "outputs": [],
   "source": [
    "from statistics import mean\n",
    "from math import sqrt,fsum,log10\n",
    "sum = 0\n",
    "for st,vals in salary.items():\n",
    "    if (vals > 2000):\n",
    "      print('{0} corresponds to {1}'.format(st, sqrt(vals)))\n",
    "      sum += vals\n",
    "print(fsum(list(salary.values())))\n",
    "    \n",
    "print ('Total salary {0}'.format(sum))\n",
    "[log10(i) for i in list(salary.values())]"
   ]
  },
  {
   "cell_type": "code",
   "execution_count": 3,
   "metadata": {},
   "outputs": [
    {
     "name": "stdout",
     "output_type": "stream",
     "text": [
      "65\n"
     ]
    }
   ],
   "source": [
    "print (ord (\"A\"))"
   ]
  },
  {
   "cell_type": "code",
   "execution_count": 4,
   "metadata": {},
   "outputs": [
    {
     "name": "stdout",
     "output_type": "stream",
     "text": [
      "90\n"
     ]
    }
   ],
   "source": [
    "print (ord(\"Z\"))"
   ]
  },
  {
   "cell_type": "code",
   "execution_count": 5,
   "metadata": {
    "scrolled": true
   },
   "outputs": [
    {
     "data": {
      "text/plain": [
       "datetime.datetime(2019, 3, 11, 10, 5, 47, 373188)"
      ]
     },
     "execution_count": 5,
     "metadata": {},
     "output_type": "execute_result"
    }
   ],
   "source": [
    "import datetime as dt\n",
    "dt.datetime.now()"
   ]
  },
  {
   "cell_type": "code",
   "execution_count": 7,
   "metadata": {},
   "outputs": [
    {
     "data": {
      "text/plain": [
       "datetime.date(2019, 3, 11)"
      ]
     },
     "execution_count": 7,
     "metadata": {},
     "output_type": "execute_result"
    }
   ],
   "source": [
    "dt.datetime.now().date()"
   ]
  },
  {
   "cell_type": "code",
   "execution_count": 8,
   "metadata": {},
   "outputs": [
    {
     "data": {
      "text/plain": [
       "'dt.datetime.now().date()'"
      ]
     },
     "execution_count": 8,
     "metadata": {},
     "output_type": "execute_result"
    }
   ],
   "source": [
    "str(In[7])"
   ]
  },
  {
   "cell_type": "code",
   "execution_count": 9,
   "metadata": {},
   "outputs": [
    {
     "name": "stdout",
     "output_type": "stream",
     "text": [
      "dt.datetime.now().date()\n"
     ]
    }
   ],
   "source": [
    "print (In[7])"
   ]
  },
  {
   "cell_type": "code",
   "execution_count": 12,
   "metadata": {},
   "outputs": [],
   "source": [
    "def SayHello():\n",
    "    print('Hello There!')"
   ]
  },
  {
   "cell_type": "code",
   "execution_count": 14,
   "metadata": {},
   "outputs": [
    {
     "name": "stdout",
     "output_type": "stream",
     "text": [
      "Hello There!\n"
     ]
    }
   ],
   "source": [
    "SayHello()"
   ]
  },
  {
   "cell_type": "code",
   "execution_count": 16,
   "metadata": {},
   "outputs": [],
   "source": [
    "def DoSum(Value1, Value2):\n",
    "    return Value1 + Value2"
   ]
  },
  {
   "cell_type": "code",
   "execution_count": 17,
   "metadata": {},
   "outputs": [
    {
     "data": {
      "text/plain": [
       "7"
      ]
     },
     "execution_count": 17,
     "metadata": {},
     "output_type": "execute_result"
    }
   ],
   "source": [
    "DoSum(2,5)"
   ]
  },
  {
   "cell_type": "code",
   "execution_count": 19,
   "metadata": {},
   "outputs": [
    {
     "ename": "TypeError",
     "evalue": "DoSum() missing 1 required positional argument: 'Value2'",
     "output_type": "error",
     "traceback": [
      "\u001b[0;31m---------------------------------------------------------------------------\u001b[0m",
      "\u001b[0;31mTypeError\u001b[0m                                 Traceback (most recent call last)",
      "\u001b[0;32m<ipython-input-19-e11edaf301a5>\u001b[0m in \u001b[0;36m<module>\u001b[0;34m\u001b[0m\n\u001b[0;32m----> 1\u001b[0;31m \u001b[0mDoSum\u001b[0m\u001b[0;34m(\u001b[0m\u001b[0;36m2\u001b[0m\u001b[0;34m)\u001b[0m\u001b[0;34m\u001b[0m\u001b[0;34m\u001b[0m\u001b[0m\n\u001b[0m",
      "\u001b[0;31mTypeError\u001b[0m: DoSum() missing 1 required positional argument: 'Value2'"
     ]
    }
   ],
   "source": [
    "DoSum(2)"
   ]
  },
  {
   "cell_type": "code",
   "execution_count": 21,
   "metadata": {},
   "outputs": [
    {
     "name": "stdout",
     "output_type": "stream",
     "text": [
      "5 + 4 = 9\n"
     ]
    }
   ],
   "source": [
    "## Positional parameters by keyword\n",
    "def DisplaySum(Value1, Value2):\n",
    "    print(str(Value1) + ' + ' + str(Value2) + ' = ' +\n",
    "    str((Value1 + Value2)))\n",
    "DisplaySum(Value2=4, Value1=5)\n"
   ]
  },
  {
   "cell_type": "code",
   "execution_count": 22,
   "metadata": {},
   "outputs": [],
   "source": [
    "## Giving function arguments a default value\n",
    "def SayHello(Greeting = \"No Value Supplied\"):\n",
    "    print(Greeting)"
   ]
  },
  {
   "cell_type": "code",
   "execution_count": 23,
   "metadata": {},
   "outputs": [
    {
     "name": "stdout",
     "output_type": "stream",
     "text": [
      "No Value Supplied\n"
     ]
    }
   ],
   "source": [
    "SayHello()"
   ]
  },
  {
   "cell_type": "code",
   "execution_count": 28,
   "metadata": {},
   "outputs": [
    {
     "name": "stdout",
     "output_type": "stream",
     "text": [
      "You passed 4 arguments. ('there', 'how', 'are', 'you')\n"
     ]
    }
   ],
   "source": [
    "## Creating functions with a variable number of arguments\n",
    "def DisplayMulti(ArgCount = 0, *VarArgs):\n",
    "    print('You passed ' + str(ArgCount) + ' arguments.',\n",
    "    VarArgs) \n",
    "DisplayMulti(4, \"there\", \"how\", \"are\", \"you\")"
   ]
  },
  {
   "cell_type": "code",
   "execution_count": 30,
   "metadata": {},
   "outputs": [
    {
     "name": "stdout",
     "output_type": "stream",
     "text": [
      "Value equals 6!\n",
      "Value is something else.\n",
      "It equals 1\n",
      "Value equals 7!\n"
     ]
    }
   ],
   "source": [
    "## Using Conditional and Loop Statements\n",
    "##\n",
    "##Making decisions using the if statement\n",
    "## The condition always ends with a colon (:)\n",
    "\n",
    "def TestValue(Value):\n",
    "    if Value == 7:\n",
    "        print('Value equals 7!')\n",
    "    elif Value == 6:\n",
    "        print('Value equals 6!')\n",
    "    else:\n",
    "        print('Value is something else.')\n",
    "        print('It equals ' + str(Value))\n",
    "\n",
    "TestValue(6)\n",
    "TestValue(1)\n",
    "TestValue(7)"
   ]
  },
  {
   "cell_type": "code",
   "execution_count": 31,
   "metadata": {},
   "outputs": [],
   "source": [
    "## Nested decisions\n",
    "def SecretNumber():\n",
    "    One = int(input(\"Type a number between 1 and 10: \"))\n",
    "    Two = int(input(\"Type a number between 1 and 10: \"))\n",
    "\n",
    "    if (One >= 1) and (One <= 10):\n",
    "        if (Two >= 1) and (Two <= 10):\n",
    "           print('Your secret number is: ' + str(One * Two))\n",
    "        else:\n",
    "           print(\"Incorrect second value!\")\n",
    "    else:\n",
    "        print(\"Incorrect first value!\")"
   ]
  },
  {
   "cell_type": "code",
   "execution_count": 33,
   "metadata": {},
   "outputs": [
    {
     "name": "stdout",
     "output_type": "stream",
     "text": [
      "Type a number between 1 and 10: 10\n",
      "Type a number between 1 and 10: 10\n",
      "Your secret number is: 100\n"
     ]
    }
   ],
   "source": [
    "SecretNumber()"
   ]
  },
  {
   "cell_type": "code",
   "execution_count": 34,
   "metadata": {},
   "outputs": [
    {
     "name": "stdout",
     "output_type": "stream",
     "text": [
      "Type a number between 1 and 10: 20\n",
      "Type a number between 1 and 10: 10\n",
      "Incorrect first value!\n"
     ]
    }
   ],
   "source": [
    "SecretNumber()"
   ]
  },
  {
   "cell_type": "code",
   "execution_count": 37,
   "metadata": {},
   "outputs": [],
   "source": [
    "## Performing repetitive tasks using for\n",
    "def DisplayMulti(*VarArgs):\n",
    "    for Arg in VarArgs:\n",
    "        if Arg.upper() == 'CONT':\n",
    "            continue\n",
    "            print('Continue Argument: ' + Arg)\n",
    "        elif Arg.upper() == 'BREAK':\n",
    "            break\n",
    "            print('Break Argument: ' + Arg)\n",
    "        print('Good Argument: ' + Arg)"
   ]
  },
  {
   "cell_type": "code",
   "execution_count": 39,
   "metadata": {},
   "outputs": [],
   "source": [
    "DisplayMulti(\"CONT\")"
   ]
  },
  {
   "cell_type": "code",
   "execution_count": 40,
   "metadata": {},
   "outputs": [
    {
     "name": "stdout",
     "output_type": "stream",
     "text": [
      "Good Argument: Hello\n",
      "Good Argument: Goodbye\n",
      "Good Argument: First\n",
      "Good Argument: Last\n"
     ]
    }
   ],
   "source": [
    "DisplayMulti('Hello', 'Goodbye', 'First', 'Last')"
   ]
  },
  {
   "cell_type": "code",
   "execution_count": 41,
   "metadata": {},
   "outputs": [
    {
     "name": "stdout",
     "output_type": "stream",
     "text": [
      "Good Argument: Hello\n",
      "Good Argument: Goodbye\n"
     ]
    }
   ],
   "source": [
    "DisplayMulti('Hello', 'Cont', 'Goodbye', 'Break', 'Last')\n"
   ]
  },
  {
   "cell_type": "code",
   "execution_count": 42,
   "metadata": {},
   "outputs": [],
   "source": [
    "## Using the while statement\n",
    "def SecretNumber():\n",
    "    GotIt = False\n",
    "    while GotIt == False:\n",
    "        One = int(input(\"Type a number between 1 and 10: \"))\n",
    "        Two = int(input(\"Type a number between 1 and 10: \"))\n",
    "\n",
    "        if (One >= 1) and (One <= 10):\n",
    "            if (Two >= 1) and (Two <= 10):\n",
    "                print('Secret number is: ' + str(One * Two))\n",
    "                GotIt = True\n",
    "                continue\n",
    "            else:\n",
    "                print(\"Incorrect second value!\")\n",
    "        else:\n",
    "            print(\"Incorrect first value!\")\n",
    "        print(\"Try again!\")"
   ]
  },
  {
   "cell_type": "code",
   "execution_count": 43,
   "metadata": {},
   "outputs": [
    {
     "name": "stdout",
     "output_type": "stream",
     "text": [
      "Type a number between 1 and 10: 4\n",
      "Type a number between 1 and 10: 8\n",
      "Secret number is: 32\n"
     ]
    }
   ],
   "source": [
    "SecretNumber()\n"
   ]
  },
  {
   "cell_type": "code",
   "execution_count": 44,
   "metadata": {},
   "outputs": [
    {
     "name": "stdout",
     "output_type": "stream",
     "text": [
      "Type a number between 1 and 10: 8\n",
      "Type a number between 1 and 10: 11\n",
      "Incorrect second value!\n",
      "Try again!\n",
      "Type a number between 1 and 10: 8\n",
      "Type a number between 1 and 10: 2\n",
      "Secret number is: 16\n"
     ]
    }
   ],
   "source": [
    "SecretNumber()"
   ]
  },
  {
   "cell_type": "code",
   "execution_count": 51,
   "metadata": {},
   "outputs": [
    {
     "ename": "ModuleNotFoundError",
     "evalue": "No module named 'sets'",
     "output_type": "error",
     "traceback": [
      "\u001b[0;31m---------------------------------------------------------------------------\u001b[0m",
      "\u001b[0;31mModuleNotFoundError\u001b[0m                       Traceback (most recent call last)",
      "\u001b[0;32m<ipython-input-51-6edd418c4f26>\u001b[0m in \u001b[0;36m<module>\u001b[0;34m\u001b[0m\n\u001b[1;32m      2\u001b[0m \u001b[0;31m## Performing operations on sets\u001b[0m\u001b[0;34m\u001b[0m\u001b[0;34m\u001b[0m\u001b[0;34m\u001b[0m\u001b[0m\n\u001b[1;32m      3\u001b[0m \u001b[0;31m## can’t perform sequence-related tasks using sets, such a indexing or slicing.\u001b[0m\u001b[0;34m\u001b[0m\u001b[0;34m\u001b[0m\u001b[0;34m\u001b[0m\u001b[0m\n\u001b[0;32m----> 4\u001b[0;31m \u001b[0;32mfrom\u001b[0m \u001b[0msets\u001b[0m \u001b[0;32mimport\u001b[0m \u001b[0mSet\u001b[0m\u001b[0;34m\u001b[0m\u001b[0;34m\u001b[0m\u001b[0m\n\u001b[0m\u001b[1;32m      5\u001b[0m \u001b[0mSetA\u001b[0m \u001b[0;34m=\u001b[0m \u001b[0mSet\u001b[0m\u001b[0;34m(\u001b[0m\u001b[0;34m[\u001b[0m\u001b[0;34m'Red'\u001b[0m\u001b[0;34m,\u001b[0m \u001b[0;34m'Blue'\u001b[0m\u001b[0;34m,\u001b[0m \u001b[0;34m'Green'\u001b[0m\u001b[0;34m,\u001b[0m \u001b[0;34m'Black'\u001b[0m\u001b[0;34m]\u001b[0m\u001b[0;34m)\u001b[0m\u001b[0;34m\u001b[0m\u001b[0;34m\u001b[0m\u001b[0m\n\u001b[1;32m      6\u001b[0m \u001b[0mSetB\u001b[0m \u001b[0;34m=\u001b[0m \u001b[0mSet\u001b[0m\u001b[0;34m(\u001b[0m\u001b[0;34m[\u001b[0m\u001b[0;34m'Black'\u001b[0m\u001b[0;34m,\u001b[0m \u001b[0;34m'Green'\u001b[0m\u001b[0;34m,\u001b[0m \u001b[0;34m'Yellow'\u001b[0m\u001b[0;34m,\u001b[0m \u001b[0;34m'Orange'\u001b[0m\u001b[0;34m]\u001b[0m\u001b[0;34m)\u001b[0m\u001b[0;34m\u001b[0m\u001b[0;34m\u001b[0m\u001b[0m\n",
      "\u001b[0;31mModuleNotFoundError\u001b[0m: No module named 'sets'"
     ]
    }
   ],
   "source": [
    "## Storing Data Using Sets, Lists, and Tuples\n",
    "## Performing operations on sets\n",
    "## can’t perform sequence-related tasks using sets, such a indexing or slicing. \n",
    "\n",
    "## Review later\n",
    "from sets import Set\n",
    "SetA = Set(['Red', 'Blue', 'Green', 'Black'])\n",
    "SetB = Set(['Black', 'Green', 'Yellow', 'Orange'])\n",
    "SetX = SetA.union(SetB)\n",
    "SetY = SetA.intersection(SetB)\n",
    "SetZ = SetA.difference(SetB)"
   ]
  },
  {
   "cell_type": "code",
   "execution_count": 52,
   "metadata": {},
   "outputs": [
    {
     "data": {
      "text/plain": [
       "[0, 1, 2, 3, 4, 5, 6, 7]"
      ]
     },
     "execution_count": 52,
     "metadata": {},
     "output_type": "execute_result"
    }
   ],
   "source": [
    "ListA = [0, 1, 2, 3]\n",
    "ListB = [4, 5, 6, 7]\n",
    "ListA.extend(ListB)\n",
    "ListA"
   ]
  },
  {
   "cell_type": "code",
   "execution_count": 53,
   "metadata": {},
   "outputs": [],
   "source": [
    "ListA.append(-5) "
   ]
  },
  {
   "cell_type": "code",
   "execution_count": 60,
   "metadata": {},
   "outputs": [],
   "source": [
    "ListA.remove(4) "
   ]
  },
  {
   "cell_type": "code",
   "execution_count": 58,
   "metadata": {},
   "outputs": [
    {
     "data": {
      "text/plain": [
       "[0, 1, 2, 3, 5, 6, 7, -5, 4]"
      ]
     },
     "execution_count": 58,
     "metadata": {},
     "output_type": "execute_result"
    }
   ],
   "source": [
    "ListA\n"
   ]
  },
  {
   "cell_type": "code",
   "execution_count": 56,
   "metadata": {},
   "outputs": [],
   "source": [
    "ListA.append(4)\n",
    "ListA.append(4)"
   ]
  },
  {
   "cell_type": "code",
   "execution_count": 61,
   "metadata": {},
   "outputs": [
    {
     "data": {
      "text/plain": [
       "[0, 1, 2, 3, 5, 6, 7, -5]"
      ]
     },
     "execution_count": 61,
     "metadata": {},
     "output_type": "execute_result"
    }
   ],
   "source": [
    "ListA"
   ]
  },
  {
   "cell_type": "code",
   "execution_count": 62,
   "metadata": {},
   "outputs": [],
   "source": [
    "## Tuples are immutable, which means you can’t change them\n",
    "\n",
    "MyTuple = (1, 2, 3, (4, 5, 6, (7, 8, 9)))"
   ]
  },
  {
   "cell_type": "code",
   "execution_count": 65,
   "metadata": {},
   "outputs": [
    {
     "name": "stdout",
     "output_type": "stream",
     "text": [
      "1\n",
      "2\n",
      "3\n",
      "\t 4\n",
      "\t 5\n",
      "\t 6\n",
      "\t\t 7\n",
      "\t\t 8\n",
      "\t\t 9\n"
     ]
    }
   ],
   "source": [
    "for Value1 in MyTuple:\n",
    "    if type(Value1) == int:\n",
    "        print (Value1)\n",
    "    else:\n",
    "        for Value2 in Value1:\n",
    "            if type(Value2) == int:\n",
    "                print (\"\\t\", Value2)\n",
    "            else:\n",
    "                for Value3 in Value2:\n",
    "                    print (\"\\t\\t\", Value3)"
   ]
  },
  {
   "cell_type": "code",
   "execution_count": 66,
   "metadata": {},
   "outputs": [],
   "source": [
    "MyNewTuple = MyTuple.__add__((10, 11, 12, (13, 14, 15))) "
   ]
  },
  {
   "cell_type": "code",
   "execution_count": 67,
   "metadata": {},
   "outputs": [
    {
     "name": "stdout",
     "output_type": "stream",
     "text": [
      "1\n",
      "2\n",
      "3\n",
      "\t 4\n",
      "\t 5\n",
      "\t 6\n",
      "\t\t 7\n",
      "\t\t 8\n",
      "\t\t 9\n",
      "10\n",
      "11\n",
      "12\n",
      "\t 13\n",
      "\t 14\n",
      "\t 15\n"
     ]
    }
   ],
   "source": [
    "for Value1 in MyNewTuple:\n",
    "    if type(Value1) == int:\n",
    "        print (Value1)\n",
    "    else:\n",
    "        for Value2 in Value1:\n",
    "            if type(Value2) == int:\n",
    "                print (\"\\t\", Value2)\n",
    "            else:\n",
    "                for Value3 in Value2:\n",
    "                    print (\"\\t\\t\", Value3)"
   ]
  },
  {
   "cell_type": "code",
   "execution_count": 69,
   "metadata": {},
   "outputs": [
    {
     "name": "stdout",
     "output_type": "stream",
     "text": [
      "1\n",
      "2\n",
      "3\n",
      "4\n"
     ]
    }
   ],
   "source": [
    "## Defining Useful Iterators\n",
    "\n",
    "## All indexes in Python are zero-based\n",
    "ListA = ['Orange', 'Yellow', 'Green', 'Brown']\n",
    "ListB = [1, 2, 3, 4]\n",
    "for Value in ListB:\n",
    "    print (Value)\n"
   ]
  },
  {
   "cell_type": "code",
   "execution_count": 70,
   "metadata": {},
   "outputs": [
    {
     "name": "stdout",
     "output_type": "stream",
     "text": [
      "2\n",
      "3\n"
     ]
    }
   ],
   "source": [
    "for Value in ListB[1:3]:\n",
    "    print (Value)"
   ]
  },
  {
   "cell_type": "code",
   "execution_count": 72,
   "metadata": {},
   "outputs": [
    {
     "data": {
      "text/plain": [
       "[3]"
      ]
     },
     "execution_count": 72,
     "metadata": {},
     "output_type": "execute_result"
    }
   ],
   "source": [
    "ListB[2:3]"
   ]
  },
  {
   "cell_type": "code",
   "execution_count": 74,
   "metadata": {},
   "outputs": [
    {
     "name": "stdout",
     "output_type": "stream",
     "text": [
      "Orange \t 1\n",
      "Yellow \t 2\n",
      "Green \t 3\n",
      "Brown \t 4\n"
     ]
    }
   ],
   "source": [
    "for Value1, Value2 in zip(ListA, ListB):\n",
    "    print (Value1, '\\t', Value2)"
   ]
  },
  {
   "cell_type": "code",
   "execution_count": 75,
   "metadata": {},
   "outputs": [],
   "source": [
    "## Indexing Data Using Dictionaries\n",
    "MyDict = {'Orange':1, 'Blue':2, 'Pink':3}"
   ]
  },
  {
   "cell_type": "code",
   "execution_count": 77,
   "metadata": {},
   "outputs": [
    {
     "data": {
      "text/plain": [
       "3"
      ]
     },
     "execution_count": 77,
     "metadata": {},
     "output_type": "execute_result"
    }
   ],
   "source": [
    "MyDict['Pink']"
   ]
  },
  {
   "cell_type": "code",
   "execution_count": 78,
   "metadata": {},
   "outputs": [
    {
     "data": {
      "text/plain": [
       "dict_keys(['Orange', 'Blue', 'Pink'])"
      ]
     },
     "execution_count": 78,
     "metadata": {},
     "output_type": "execute_result"
    }
   ],
   "source": [
    "MyDict.keys()"
   ]
  },
  {
   "cell_type": "code",
   "execution_count": 80,
   "metadata": {},
   "outputs": [
    {
     "data": {
      "text/plain": [
       "dict_values([1, 2, 3])"
      ]
     },
     "execution_count": 80,
     "metadata": {},
     "output_type": "execute_result"
    }
   ],
   "source": [
    "MyDict.values()"
   ]
  },
  {
   "cell_type": "code",
   "execution_count": 82,
   "metadata": {},
   "outputs": [
    {
     "name": "stdout",
     "output_type": "stream",
     "text": [
      "1\n",
      "2\n",
      "3\n"
     ]
    }
   ],
   "source": [
    "for j in MyDict.values():\n",
    "    print (j)"
   ]
  },
  {
   "cell_type": "code",
   "execution_count": 2,
   "metadata": {},
   "outputs": [
    {
     "name": "stdout",
     "output_type": "stream",
     "text": [
      "Colors.txt content:\n",
      "Color\tValue\r\n",
      "Red\t1\r\n",
      "Orange\t2\r\n",
      "Yellow\t3\r\n",
      "Green\t4\r\n",
      "Blue\t5\r\n",
      "Purple\t6\r\n",
      "Black\t7\r\n",
      "White\t8\n"
     ]
    }
   ],
   "source": [
    "with open(\"Colors.txt\", 'rb') as open_file:\n",
    "    print ('Colors.txt content:\\n' + open_file.read().decode())"
   ]
  },
  {
   "cell_type": "code",
   "execution_count": 5,
   "metadata": {},
   "outputs": [
    {
     "name": "stdout",
     "output_type": "stream",
     "text": [
      "Reading Data: Color\tValue\r\n",
      "\n",
      "Reading Data: Red\t1\r\n",
      "\n",
      "Reading Data: Orange\t2\r\n",
      "\n",
      "Reading Data: Yellow\t3\r\n",
      "\n",
      "Reading Data: Green\t4\r\n",
      "\n",
      "Reading Data: Blue\t5\r\n",
      "\n",
      "Reading Data: Purple\t6\r\n",
      "\n",
      "Reading Data: Black\t7\r\n",
      "\n",
      "Reading Data: White\t8\n"
     ]
    }
   ],
   "source": [
    "##Streaming large amounts of data into memory\n",
    "\n",
    "with open(\"Colors.txt\", 'rb') as open_file:\n",
    "    for observation in open_file:\n",
    "        print ('Reading Data: ' + observation.decode())"
   ]
  },
  {
   "cell_type": "code",
   "execution_count": 8,
   "metadata": {},
   "outputs": [
    {
     "name": "stdout",
     "output_type": "stream",
     "text": [
      "Reading Line: 0 Content: Color\tValue\r\n",
      "\n",
      "Reading Line: 3 Content: Yellow\t3\r\n",
      "\n",
      "Reading Line: 6 Content: Purple\t6\r\n",
      "\n"
     ]
    }
   ],
   "source": [
    "## Sampling data\n",
    "n = 3\n",
    "with open(\"Colors.txt\", 'rb') as open_file:\n",
    "    for j, observation in enumerate(open_file):\n",
    "        if j % n==0:\n",
    "            print('Reading Line: ' + str(j) + \n",
    "            ' Content: ' + observation.decode())"
   ]
  },
  {
   "cell_type": "code",
   "execution_count": 9,
   "metadata": {},
   "outputs": [
    {
     "name": "stdout",
     "output_type": "stream",
     "text": [
      "Reading Line: 3 Content: Yellow\t3\r\n",
      "\n",
      "Reading Line: 5 Content: Blue\t5\r\n",
      "\n",
      "Reading Line: 7 Content: Black\t7\r\n",
      "\n"
     ]
    }
   ],
   "source": [
    "## Random sampling\n",
    "from random import random\n",
    "sample_size = 0.25\n",
    "with open(\"Colors.txt\", 'rb') as open_file:\n",
    "    for j, observation in enumerate(open_file):\n",
    "        if random()<=sample_size:\n",
    "            print('Reading Line: ' + str(j) +\n",
    "            ' Content: ' + observation.decode())"
   ]
  },
  {
   "cell_type": "code",
   "execution_count": 12,
   "metadata": {},
   "outputs": [
    {
     "name": "stdout",
     "output_type": "stream",
     "text": [
      "    Color  Value\n",
      "0     Red      1\n",
      "1  Orange      2\n",
      "2  Yellow      3\n",
      "3   Green      4\n",
      "4    Blue      5\n",
      "5  Purple      6\n",
      "6   Black      7\n",
      "7   White      8\n"
     ]
    }
   ],
   "source": [
    "## Accessing Data in Structured Flat-File Form\n",
    "import pandas as pd\n",
    "color_table = pd.io.parsers.read_table(\"Colors.txt\")\n",
    "print (color_table)"
   ]
  },
  {
   "cell_type": "code",
   "execution_count": 16,
   "metadata": {},
   "outputs": [
    {
     "name": "stdout",
     "output_type": "stream",
     "text": [
      "            age\n",
      "0       29.0000\n",
      "1        0.9167\n",
      "2        2.0000\n",
      "3       30.0000\n",
      "4       25.0000\n",
      "5       48.0000\n",
      "6       63.0000\n",
      "7       39.0000\n",
      "8       53.0000\n",
      "9       71.0000\n",
      "10      47.0000\n",
      "11      18.0000\n",
      "12      24.0000\n",
      "13      26.0000\n",
      "14      80.0000\n",
      "15    9999.0000\n",
      "16      24.0000\n",
      "17      50.0000\n",
      "18      32.0000\n",
      "19      36.0000\n",
      "20      37.0000\n",
      "21      47.0000\n",
      "22      26.0000\n",
      "23      42.0000\n",
      "24      29.0000\n",
      "25      25.0000\n",
      "26      25.0000\n",
      "27      19.0000\n",
      "28      35.0000\n",
      "29      28.0000\n",
      "...         ...\n",
      "1279    14.0000\n",
      "1280    22.0000\n",
      "1281    22.0000\n",
      "1282  9999.0000\n",
      "1283  9999.0000\n",
      "1284  9999.0000\n",
      "1285    32.5000\n",
      "1286    38.0000\n",
      "1287    51.0000\n",
      "1288    18.0000\n",
      "1289    21.0000\n",
      "1290    47.0000\n",
      "1291  9999.0000\n",
      "1292  9999.0000\n",
      "1293  9999.0000\n",
      "1294    28.5000\n",
      "1295    21.0000\n",
      "1296    27.0000\n",
      "1297  9999.0000\n",
      "1298    36.0000\n",
      "1299    27.0000\n",
      "1300    15.0000\n",
      "1301    45.5000\n",
      "1302  9999.0000\n",
      "1303  9999.0000\n",
      "1304    14.5000\n",
      "1305  9999.0000\n",
      "1306    26.5000\n",
      "1307    27.0000\n",
      "1308    29.0000\n",
      "\n",
      "[1309 rows x 1 columns]\n"
     ]
    }
   ],
   "source": [
    "import pandas as pd\n",
    "titanic = pd.io.parsers.read_csv(\"Titanic.csv\")\n",
    "X = titanic[['age']]\n",
    "#X = titanic[['age']].values\n",
    "print (X)"
   ]
  },
  {
   "cell_type": "code",
   "execution_count": 14,
   "metadata": {},
   "outputs": [
    {
     "data": {
      "text/plain": [
       "pandas.core.frame.DataFrame"
      ]
     },
     "execution_count": 14,
     "metadata": {},
     "output_type": "execute_result"
    }
   ],
   "source": [
    "type(titanic)"
   ]
  },
  {
   "cell_type": "code",
   "execution_count": 18,
   "metadata": {},
   "outputs": [
    {
     "name": "stdout",
     "output_type": "stream",
     "text": [
      "    Angle (Degrees)      Sine    Cosine    Tangent\n",
      "0        138.550574  0.661959 -0.749540  -0.883153\n",
      "1        305.535745 -0.813753  0.581211  -1.400100\n",
      "2        280.518695 -0.983195  0.182556  -5.385709\n",
      "3        216.363795 -0.592910 -0.805269   0.736289\n",
      "4         36.389247  0.593268  0.805005   0.736974\n",
      "5         31.474311  0.522116  0.852874   0.612184\n",
      "6        120.121669  0.864962 -0.501838  -1.723588\n",
      "7        293.947055 -0.913921  0.405892  -2.251634\n",
      "8        179.882632  0.002048 -0.999998  -0.002048\n",
      "9        120.927562  0.857818 -0.513954  -1.669056\n",
      "10        71.349485  0.947487  0.319795   2.962796\n",
      "11       241.971082 -0.882711 -0.469917   1.878439\n",
      "12       297.208817 -0.889346  0.457235  -1.945053\n",
      "13       142.004551  0.615599 -0.788060  -0.781158\n",
      "14       173.770696  0.108508 -0.994096  -0.109152\n",
      "15       229.232002 -0.757360 -0.652998   1.159820\n",
      "16        67.926976  0.926706  0.375788   2.466033\n",
      "17       261.866575 -0.989941 -0.141479   6.997102\n",
      "18        59.185450  0.858830  0.512261   1.676547\n",
      "19        98.029275  0.990197 -0.139679  -7.089086\n",
      "20         9.336088  0.162225  0.986754   0.164403\n",
      "21        90.746371  0.999915 -0.013026 -76.761483\n",
      "22       217.798087 -0.612881 -0.790175   0.775626\n",
      "23        58.616049  0.853697  0.520771   1.639295\n",
      "24       197.196367 -0.295647 -0.955297   0.309482\n",
      "25       331.194892 -0.481832  0.876264  -0.549871\n",
      "26         6.509875  0.113374  0.993552   0.114110\n",
      "27       266.390707 -0.998017 -0.062952  15.853513\n",
      "28       230.323819 -0.769665 -0.638448   1.205525\n",
      "29       314.224257 -0.716615  0.697469  -1.027452\n",
      "..              ...       ...       ...        ...\n",
      "42       324.080564 -0.586647  0.809843  -0.724396\n",
      "43       140.893727  0.630761 -0.775977  -0.812860\n",
      "44       128.226889  0.785567 -0.618777  -1.269547\n",
      "45        82.770054  0.992049  0.125852   7.882680\n",
      "46       303.112455 -0.837600  0.546284  -1.533268\n",
      "47       164.824273  0.261780 -0.965127  -0.271239\n",
      "48       218.829827 -0.627009 -0.779012   0.804878\n",
      "49        28.649593  0.479452  0.877568   0.546341\n",
      "50       349.336296 -0.185044  0.982730  -0.188296\n",
      "51        84.889713  0.996025  0.089073  11.182105\n",
      "52       197.935862 -0.307952 -0.951402   0.323683\n",
      "53       303.049380 -0.838201  0.545362  -1.536963\n",
      "54       183.737235 -0.065181 -0.997873   0.065320\n",
      "55       346.153919 -0.239314  0.970942  -0.246477\n",
      "56       218.822745 -0.626913 -0.779089   0.804674\n",
      "57       243.969070 -0.898557 -0.438856   2.047498\n",
      "58       115.600771  0.901827 -0.432098  -2.087089\n",
      "59       125.906606  0.809974 -0.586466  -1.381111\n",
      "60       200.094363 -0.343567 -0.939128   0.365836\n",
      "61       337.860807 -0.376858  0.926271  -0.406855\n",
      "62       168.176975  0.204889 -0.978785  -0.209330\n",
      "63       305.708155 -0.812000  0.583657  -1.391229\n",
      "64       162.656078  0.298107 -0.954533  -0.312306\n",
      "65       219.007899 -0.629428 -0.777059   0.810012\n",
      "66       222.830465 -0.679831 -0.733368   0.926998\n",
      "67       324.199562 -0.584964  0.811059  -0.721234\n",
      "68       187.948172 -0.138277 -0.990394   0.139619\n",
      "69       270.678249 -0.999930  0.011837 -84.472139\n",
      "70       270.779159 -0.999908  0.013598 -73.530885\n",
      "71       200.213513 -0.345520 -0.938412   0.368196\n",
      "\n",
      "[72 rows x 4 columns]\n"
     ]
    }
   ],
   "source": [
    "import pandas as pd\n",
    "xls = pd.ExcelFile(\"Values.xls\")\n",
    "trig_values = xls.parse('Sheet1', index_col=None, \n",
    "                        na_values=['NA'])\n",
    "#trig_values = pd.read_excel(\"Values.xls\", 'Sheet1', index_col=None, na_values=['NA'])\n",
    "print (trig_values)"
   ]
  },
  {
   "cell_type": "code",
   "execution_count": 20,
   "metadata": {},
   "outputs": [
    {
     "data": {
      "image/png": "[encoded data removed]",
      "text/plain": [
       "<Figure size 432x288 with 1 Axes>"
      ]
     },
     "metadata": {
      "needs_background": "light"
     },
     "output_type": "display_data"
    }
   ],
   "source": [
    "## Sending Data in Unstructured File Form\n",
    "from skimage.io import imread\n",
    "from skimage.transform import resize \n",
    "from matplotlib import pyplot as plt\n",
    "import matplotlib.cm as cm\n",
    "\n",
    "example_file = (\"http://upload.wikimedia.org/\" +\n",
    "    \"wikipedia/commons/7/7d/Dog_face.png\")\n",
    "image = imread(example_file, as_gray=True)\n",
    "plt.imshow(image, cmap=cm.gray)\n",
    "plt.show()"
   ]
  },
  {
   "cell_type": "code",
   "execution_count": 21,
   "metadata": {},
   "outputs": [
    {
     "name": "stdout",
     "output_type": "stream",
     "text": [
      "data type: <class 'numpy.ndarray'>, shape: (90, 90)\n"
     ]
    }
   ],
   "source": [
    "print(\"data type: %s, shape: %s\" % \n",
    "      (type(image), image.shape))"
   ]
  },
  {
   "cell_type": "code",
   "execution_count": 26,
   "metadata": {},
   "outputs": [
    {
     "data": {
      "image/png": "[encoded data removed]",
      "text/plain": [
       "<Figure size 432x288 with 1 Axes>"
      ]
     },
     "metadata": {
      "needs_background": "light"
     },
     "output_type": "display_data"
    }
   ],
   "source": [
    "## Cropping\n",
    "image2 = image[5:70,0:70]\n",
    "plt.imshow(image2, cmap=cm.gray)\n",
    "plt.show()"
   ]
  },
  {
   "cell_type": "code",
   "execution_count": 27,
   "metadata": {},
   "outputs": [
    {
     "name": "stdout",
     "output_type": "stream",
     "text": [
      "data type: <class 'numpy.ndarray'>, shape: (30, 30)\n"
     ]
    },
    {
     "data": {
      "image/png": "[encoded data removed]",
      "text/plain": [
       "<Figure size 432x288 with 1 Axes>"
      ]
     },
     "metadata": {
      "needs_background": "light"
     },
     "output_type": "display_data"
    }
   ],
   "source": [
    "## Resizing\n",
    "image3 = resize(image2, (30, 30), mode='symmetric')\n",
    "plt.imshow(image3, cmap=cm.gray)\n",
    "print(\"data type: %s, shape: %s\" % \n",
    "      (type(image3), image3.shape))"
   ]
  },
  {
   "cell_type": "code",
   "execution_count": 28,
   "metadata": {},
   "outputs": [
    {
     "name": "stdout",
     "output_type": "stream",
     "text": [
      "data type: <class 'numpy.ndarray'>, shape: (900,)\n"
     ]
    }
   ],
   "source": [
    "##  Flattening image\n",
    "image_row = image3.flatten()\n",
    "print(\"data type: %s, shape: %s\" % \n",
    "      (type(image_row), image_row.shape))"
   ]
  },
  {
   "cell_type": "code",
   "execution_count": 29,
   "metadata": {},
   "outputs": [
    {
     "data": {
      "text/plain": [
       "array([6.51005763e-01, 6.58893529e-01, 6.57499521e-01, 6.51522353e-01,\n",
       "       6.51703529e-01, 6.46457473e-01, 6.51911678e-01, 6.59649673e-01,\n",
       "       6.51141569e-01, 6.51577298e-01, 6.50814771e-01, 6.47546797e-01,\n",
       "       6.51693813e-01, 6.50499346e-01, 6.53440523e-01, 6.50893159e-01,\n",
       "       6.32337908e-01, 6.49509978e-01, 6.51876688e-01, 6.58838660e-01,\n",
       "       6.49018344e-01, 6.42973551e-01, 6.39930980e-01, 6.48309325e-01,\n",
       "       6.51686231e-01, 6.48200392e-01, 6.42971634e-01, 6.42426972e-01,\n",
       "       6.45912810e-01, 6.43407364e-01, 6.51470327e-01, 6.54713431e-01,\n",
       "       6.54015261e-01, 6.57213791e-01, 6.46801569e-01, 6.48527190e-01,\n",
       "       6.45587908e-01, 6.44771863e-01, 6.52290163e-01, 6.52053235e-01,\n",
       "       6.53830196e-01, 6.44468137e-01, 6.47315327e-01, 6.55969118e-01,\n",
       "       6.43122778e-01, 6.88405686e-01, 7.37133039e-01, 6.61349967e-01,\n",
       "       5.79020850e-01, 4.25838824e-01, 3.50690719e-01, 3.79482255e-01,\n",
       "       4.78929902e-01, 6.28487647e-01, 6.69591078e-01, 6.44766373e-01,\n",
       "       6.71086144e-01, 6.44519706e-01, 6.49908627e-01, 6.47932745e-01,\n",
       "       6.56370327e-01, 6.53102353e-01, 6.58845229e-01, 6.53555381e-01,\n",
       "       6.55625098e-01, 6.54191678e-01, 6.56806057e-01, 6.52775556e-01,\n",
       "       6.49296122e-01, 6.58893072e-01, 6.56417092e-01, 6.57917865e-01,\n",
       "       7.06328617e-01, 8.96446863e-01, 8.03410980e-01, 2.26862070e-01,\n",
       "       4.60157843e-02, 2.49471133e-02, 3.10590087e-02, 7.68862418e-02,\n",
       "       1.12528573e-01, 8.13714270e-02, 1.53529118e-01, 1.60702647e-01,\n",
       "       1.06324837e-01, 7.06237908e-02, 5.07174967e-01, 6.48311765e-01,\n",
       "       6.42155588e-01, 6.44754532e-01, 6.55625098e-01, 6.57023922e-01,\n",
       "       6.57102309e-01, 6.59655599e-01, 6.63468235e-01, 6.55842963e-01,\n",
       "       6.62378911e-01, 6.55625098e-01, 6.45276514e-01, 6.61834248e-01,\n",
       "       6.48283725e-01, 6.95491013e-01, 9.64412516e-01, 8.30263529e-01,\n",
       "       1.55393780e-01, 7.54488017e-03, 3.00604575e-03, 9.04213508e-03,\n",
       "       3.58866122e-02, 4.24898039e-02, 3.43247277e-02, 3.39406100e-02,\n",
       "       7.13234314e-02, 7.79392157e-02, 6.95767538e-02, 1.56715359e-01,\n",
       "       2.44466394e-01, 1.99283224e-01, 5.98612418e-01, 6.47700076e-01,\n",
       "       6.58184052e-01, 6.59535294e-01, 6.58693203e-01, 6.55375033e-01,\n",
       "       6.61910980e-01, 6.64095000e-01, 6.53217745e-01, 6.48269314e-01,\n",
       "       6.52351634e-01, 6.20627712e-01, 4.86585686e-01, 9.73657745e-01,\n",
       "       8.84122843e-01, 1.46724804e-01, 1.31650654e-01, 4.16649673e-02,\n",
       "       5.03568627e-03, 5.64470588e-03, 2.80605229e-02, 6.16156863e-02,\n",
       "       5.56367320e-02, 4.08501961e-02, 4.70932353e-02, 6.21745752e-02,\n",
       "       4.88342810e-02, 3.57068627e-02, 4.72966013e-02, 1.57780458e-01,\n",
       "       3.52996078e-02, 3.21559020e-01, 6.58066242e-01, 6.60633497e-01,\n",
       "       6.60296797e-01, 6.57553682e-01, 6.63218170e-01, 6.59035915e-01,\n",
       "       6.57570621e-01, 6.52099412e-01, 6.36816155e-01, 3.55542048e-01,\n",
       "       6.67441961e-01, 9.90099847e-01, 3.91326503e-01, 1.31133170e-01,\n",
       "       6.37514815e-02, 8.49355991e-02, 5.73395752e-02, 2.03576580e-02,\n",
       "       2.79569499e-02, 4.29102941e-02, 6.71284532e-02, 8.64774401e-02,\n",
       "       8.35411111e-02, 1.01260142e-01, 9.69209477e-02, 5.90034641e-02,\n",
       "       2.88031373e-02, 3.53392810e-02, 1.95622222e-02, 6.18603486e-03,\n",
       "       6.60188889e-01, 6.59491242e-01, 6.64437255e-01, 6.62782440e-01,\n",
       "       6.68773725e-01, 6.60248322e-01, 6.65881089e-01, 6.52466536e-01,\n",
       "       6.03293660e-01, 1.14998813e-01, 4.42910719e-01, 9.23013519e-01,\n",
       "       2.14873911e-01, 1.83826209e-01, 8.50345969e-02, 1.83097658e-01,\n",
       "       3.58148137e-01, 2.42711765e-01, 9.53514706e-02, 9.02252288e-02,\n",
       "       5.68531917e-02, 1.10337495e-01, 1.83908529e-01, 1.66674510e-01,\n",
       "       1.63169237e-01, 7.45389542e-02, 2.70341285e-02, 1.11865795e-02,\n",
       "       1.13498039e-02, 2.14302505e-02, 6.64147255e-01, 6.64690196e-01,\n",
       "       6.59354869e-01, 6.64043693e-01, 6.63946373e-01, 6.71667320e-01,\n",
       "       6.69600915e-01, 6.60070980e-01, 5.13926569e-01, 1.50679281e-01,\n",
       "       8.29838824e-01, 4.08359379e-01, 1.46629771e-01, 1.50818824e-01,\n",
       "       1.79119118e-01, 4.34087582e-02, 9.12297059e-02, 1.97609771e-01,\n",
       "       1.52545458e-01, 1.36698137e-01, 8.84260458e-02, 1.47609771e-01,\n",
       "       1.23116667e-01, 1.10993856e-01, 1.25623235e-01, 1.21733824e-01,\n",
       "       2.18653922e-02, 2.37151961e-02, 8.56845098e-02, 2.96883660e-02,\n",
       "       6.64348017e-01, 6.61466275e-01, 6.65155131e-01, 6.69373802e-01,\n",
       "       6.67344608e-01, 6.68378519e-01, 6.62608410e-01, 6.47413987e-01,\n",
       "       2.09691721e-01, 8.26243431e-01, 5.90921797e-01, 1.82962854e-01,\n",
       "       1.69945098e-02, 9.89656209e-02, 2.48877092e-01, 1.79523203e-01,\n",
       "       2.78394967e-01, 1.19062200e-01, 2.51395686e-01, 1.11314641e-01,\n",
       "       1.48614455e-01, 5.84328214e-02, 7.41807843e-02, 2.94122440e-02,\n",
       "       3.51885839e-02, 1.69823137e-01, 2.48182135e-02, 6.34206972e-02,\n",
       "       7.84255229e-02, 1.03117996e-01, 6.65975654e-01, 6.70129118e-01,\n",
       "       6.64619847e-01, 6.61044510e-01, 6.61869739e-01, 6.78946863e-01,\n",
       "       6.88335120e-01, 5.43394052e-01, 3.05512996e-01, 2.10846394e-01,\n",
       "       1.25218824e-01, 4.39535512e-02, 1.07976035e-02, 9.43622876e-02,\n",
       "       8.22296187e-02, 1.27895991e-01, 1.42498954e-01, 2.25868453e-01,\n",
       "       2.39636242e-01, 1.16794869e-01, 1.92262767e-01, 1.39715752e-01,\n",
       "       2.85083987e-02, 1.21492157e-02, 3.95657952e-03, 1.90290588e-01,\n",
       "       4.17622876e-02, 4.97322440e-03, 3.91898693e-02, 1.17604216e-01,\n",
       "       6.70794150e-01, 7.04829804e-01, 6.74582810e-01, 6.86584706e-01,\n",
       "       6.76849804e-01, 7.24612451e-01, 7.72439869e-01, 8.70184804e-01,\n",
       "       5.48550980e-01, 1.52762614e-01, 1.12550098e-01, 4.36388889e-02,\n",
       "       5.39901961e-03, 1.05551961e-02, 7.59862745e-02, 1.46195817e-01,\n",
       "       1.89945196e-01, 1.63252941e-01, 8.05268301e-02, 4.76557843e-02,\n",
       "       2.13922222e-02, 3.40507516e-02, 1.82802353e-01, 3.24090425e-01,\n",
       "       9.44974183e-02, 1.01911961e-01, 3.73639216e-02, 3.30254902e-03,\n",
       "       5.04648039e-02, 8.72014052e-02, 6.83133551e-01, 6.43557451e-01,\n",
       "       2.62712974e-01, 3.09421536e-01, 2.31394444e-01, 3.23748998e-01,\n",
       "       7.94824129e-01, 9.06482288e-01, 6.66123235e-01, 3.25968693e-01,\n",
       "       1.78465490e-01, 3.95358606e-02, 8.28928105e-03, 8.16993464e-03,\n",
       "       5.09600436e-02, 1.06515882e-01, 1.56253268e-01, 5.11994009e-02,\n",
       "       7.16940087e-03, 4.06322876e-02, 3.18775490e-02, 2.05271133e-02,\n",
       "       6.05727124e-02, 2.38660338e-01, 3.84701166e-01, 2.11784150e-01,\n",
       "       4.29505991e-02, 9.76507625e-03, 1.14409804e-02, 7.46661220e-03,\n",
       "       6.72568682e-01, 1.46128889e-01, 1.68906340e-01, 1.38062277e-01,\n",
       "       2.01682778e-01, 3.01769902e-01, 7.28339314e-01, 6.67332647e-01,\n",
       "       3.48435959e-01, 2.44504641e-01, 2.01354314e-01, 4.70391394e-02,\n",
       "       3.01174728e-02, 1.80832680e-02, 4.44934967e-02, 7.39468192e-02,\n",
       "       7.75376144e-02, 1.48215871e-01, 6.18000545e-02, 7.33585294e-02,\n",
       "       2.80487800e-02, 2.90329956e-02, 4.37568954e-02, 1.05464826e-01,\n",
       "       2.52236231e-01, 3.49373497e-01, 1.72838693e-01, 2.39456645e-02,\n",
       "       2.85294118e-02, 2.62480610e-02, 6.52821046e-01, 3.40045294e-01,\n",
       "       1.50695980e-01, 1.43136111e-01, 3.15854510e-01, 4.26071765e-01,\n",
       "       6.90185752e-01, 4.88996961e-01, 1.00881569e-01, 2.84763725e-02,\n",
       "       4.07834314e-02, 6.65871242e-02, 3.83918954e-02, 3.88263725e-02,\n",
       "       3.93880719e-02, 4.82716013e-02, 4.44043137e-02, 9.47377124e-02,\n",
       "       1.02632745e-01, 1.18703529e-01, 1.32246307e-01, 1.64375948e-01,\n",
       "       1.40220588e-01, 1.78165196e-01, 1.64975654e-01, 3.05464118e-01,\n",
       "       2.71936993e-01, 1.08105654e-01, 7.74579412e-02, 1.40457549e-01,\n",
       "       6.64436939e-01, 6.96976176e-01, 1.69267843e-01, 2.00538083e-01,\n",
       "       3.22448039e-01, 4.71290937e-01, 6.10167582e-01, 4.66214085e-01,\n",
       "       2.21131906e-01, 4.43397821e-02, 2.37876144e-02, 6.96818083e-02,\n",
       "       6.49670697e-02, 8.19045098e-02, 1.93300752e-01, 7.18254575e-02,\n",
       "       6.30648039e-02, 1.13143028e-01, 7.36879194e-02, 6.85433007e-02,\n",
       "       7.80931699e-02, 1.51720240e-01, 2.12812157e-01, 1.96717625e-01,\n",
       "       1.87815479e-01, 1.56623529e-01, 2.17084336e-01, 1.52900871e-01,\n",
       "       3.24756863e-02, 1.84396187e-01, 6.69501885e-01, 6.72479183e-01,\n",
       "       2.78584031e-01, 1.57792200e-01, 3.73101634e-01, 3.95512244e-01,\n",
       "       5.57453508e-01, 6.61067190e-01, 3.30290196e-01, 1.37445566e-01,\n",
       "       5.91427778e-02, 1.93827560e-02, 6.57676362e-02, 1.16385490e-01,\n",
       "       8.12352288e-02, 1.09754401e-01, 6.14234641e-02, 4.92659477e-02,\n",
       "       6.75982135e-02, 1.51570588e-02, 5.24149020e-02, 8.49976797e-02,\n",
       "       1.14248235e-01, 1.55163388e-01, 2.41573715e-01, 1.32313660e-01,\n",
       "       1.21894717e-01, 1.99379205e-01, 1.10620915e-02, 1.33260861e-01,\n",
       "       6.66185261e-01, 6.68081078e-01, 5.65275392e-01, 2.31043987e-01,\n",
       "       3.36620196e-01, 3.26780588e-01, 4.92114967e-01, 6.71027549e-01,\n",
       "       4.42692974e-01, 2.68843007e-01, 1.31544510e-01, 1.59200261e-01,\n",
       "       1.22419869e-01, 8.45206863e-02, 9.09268301e-02, 1.04010131e-01,\n",
       "       8.04166667e-02, 4.82880392e-02, 4.90127124e-02, 4.77772549e-02,\n",
       "       2.06348366e-02, 2.61447712e-02, 1.06417157e-01, 1.11205752e-01,\n",
       "       2.39715359e-01, 1.98936765e-01, 1.06797255e-01, 9.45692157e-02,\n",
       "       1.48540196e-02, 7.92268954e-02, 6.71147549e-01, 6.70077680e-01,\n",
       "       6.54311111e-01, 3.92051852e-01, 1.78628431e-01, 1.83435632e-01,\n",
       "       2.80414728e-01, 3.47608922e-01, 3.97148126e-01, 2.58516808e-01,\n",
       "       1.83026046e-01, 1.16102745e-01, 1.10138442e-01, 9.41416013e-02,\n",
       "       5.76999891e-02, 5.37323965e-02, 2.21578758e-02, 2.76533878e-02,\n",
       "       1.85948693e-02, 4.36958824e-02, 1.06398715e-01, 1.32815904e-02,\n",
       "       2.13179739e-02, 8.85817538e-02, 2.66015338e-01, 3.23910425e-01,\n",
       "       1.80363900e-01, 6.89372440e-02, 2.55905556e-02, 1.35213181e-02,\n",
       "       6.97129009e-01, 6.93095425e-01, 6.86488922e-01, 6.71660664e-01,\n",
       "       4.60068660e-01, 2.92241601e-01, 3.57480425e-01, 6.54010229e-01,\n",
       "       6.96868115e-01, 7.01728638e-01, 6.67754248e-01, 8.29078867e-02,\n",
       "       1.82695861e-02, 3.69983333e-02, 4.75679630e-02, 9.44089216e-02,\n",
       "       1.24008235e-01, 2.74236928e-02, 1.37101972e-01, 2.17754248e-02,\n",
       "       1.85352985e-01, 2.56228758e-02, 1.44097386e-02, 3.67342157e-02,\n",
       "       2.05636601e-01, 9.86756209e-02, 1.45017397e-01, 9.75674183e-02,\n",
       "       5.18854902e-02, 1.38777778e-03, 7.01996242e-01, 6.98316078e-01,\n",
       "       6.88862582e-01, 6.78047941e-01, 6.68852451e-01, 6.71840131e-01,\n",
       "       6.77498725e-01, 6.86818333e-01, 6.85197222e-01, 6.66081895e-01,\n",
       "       4.47304804e-01, 3.30800654e-02, 5.81026144e-02, 1.10725686e-01,\n",
       "       1.86779706e-01, 1.83647092e-01, 4.82289216e-02, 5.03732386e-01,\n",
       "       3.62570719e-01, 8.97448039e-02, 1.77313203e-01, 6.16348693e-02,\n",
       "       2.85812745e-02, 4.96624510e-02, 9.59605229e-02, 1.46026471e-01,\n",
       "       1.40548791e-01, 7.06439542e-02, 5.41254902e-02, 1.02183007e-03,\n",
       "       6.90517048e-01, 6.82794444e-01, 6.84696231e-01, 6.81254020e-01,\n",
       "       6.82958791e-01, 6.77383922e-01, 6.82485882e-01, 6.79336667e-01,\n",
       "       6.76442407e-01, 6.68017495e-01, 9.44185621e-02, 9.97925163e-02,\n",
       "       2.38454118e-01, 2.88204314e-01, 2.80650414e-01, 1.14332386e-01,\n",
       "       7.29578693e-01, 7.05210817e-01, 4.02394336e-01, 3.86667549e-01,\n",
       "       1.62037092e-01, 1.12493540e-01, 1.21804902e-02, 2.01341176e-02,\n",
       "       9.18464052e-02, 3.68773301e-01, 3.49119216e-01, 1.13799913e-01,\n",
       "       3.94373529e-02, 3.18311547e-04, 6.81107298e-01, 6.71848039e-01,\n",
       "       6.73659630e-01, 6.66490980e-01, 6.66396405e-01, 6.73046296e-01,\n",
       "       6.70680959e-01, 6.63398072e-01, 6.69560980e-01, 2.58472015e-01,\n",
       "       4.44298693e-01, 6.18887527e-01, 5.69751645e-01, 5.04284281e-01,\n",
       "       1.81134630e-01, 6.22243976e-01, 6.99054641e-01, 3.89967985e-01,\n",
       "       4.05315839e-01, 1.80962320e-01, 3.30375556e-01, 4.65327996e-02,\n",
       "       4.18093791e-02, 4.04871895e-02, 1.48980087e-01, 3.16277778e-01,\n",
       "       2.99407734e-01, 1.12960283e-01, 3.29437908e-03, 6.28322440e-05,\n",
       "       6.77728725e-01, 6.75767941e-01, 6.73829477e-01, 6.73874118e-01,\n",
       "       6.73721176e-01, 6.73346797e-01, 6.69752026e-01, 6.68118039e-01,\n",
       "       5.21333301e-01, 5.64476667e-01, 5.99032255e-01, 5.74691503e-01,\n",
       "       5.30143725e-01, 1.57682941e-01, 6.70652255e-01, 4.66409967e-01,\n",
       "       3.33512255e-01, 3.14472680e-01, 2.22448758e-01, 1.89431667e-01,\n",
       "       3.02759477e-02, 6.91024183e-02, 1.06423235e-01, 5.83569935e-02,\n",
       "       1.27568922e-01, 2.17809902e-01, 2.09818137e-01, 9.39727451e-02,\n",
       "       7.97313725e-03, 7.53986928e-04, 6.85537952e-01, 6.78545850e-01,\n",
       "       6.78459869e-01, 6.73761220e-01, 6.72701373e-01, 6.69333606e-01,\n",
       "       6.57231808e-01, 6.14416667e-01, 6.13927658e-01, 6.01204902e-01,\n",
       "       6.48220098e-01, 4.78515349e-01, 3.76222789e-01, 4.32761013e-01,\n",
       "       4.27188780e-01, 2.70449052e-01, 2.75298431e-01, 2.44252745e-01,\n",
       "       1.56250577e-01, 2.97964052e-02, 7.09197495e-02, 5.07451743e-02,\n",
       "       3.46989216e-02, 6.19703813e-02, 1.75210719e-01, 2.22387418e-01,\n",
       "       1.11222015e-01, 6.22064706e-02, 2.18006536e-03, 3.92156863e-03,\n",
       "       6.93096972e-01, 6.87479085e-01, 6.87057200e-01, 6.88171275e-01,\n",
       "       6.85915065e-01, 6.81744521e-01, 6.00537451e-01, 5.86731928e-01,\n",
       "       5.85742963e-01, 5.80773344e-01, 7.02306569e-01, 4.14327930e-01,\n",
       "       4.75047658e-01, 3.66517778e-01, 3.15193900e-01, 1.35013453e-01,\n",
       "       1.38400196e-01, 1.27192680e-01, 2.39338562e-01, 2.86353529e-01,\n",
       "       2.61599630e-01, 6.51311983e-02, 9.25329412e-02, 1.55844205e-01,\n",
       "       2.64921710e-01, 2.26956961e-01, 1.14081743e-01, 3.84456536e-02,\n",
       "       2.35620915e-04, 5.49717865e-03, 5.39169673e-01, 6.23988922e-01,\n",
       "       6.40538595e-01, 5.40540490e-01, 5.35736765e-01, 6.60897320e-01,\n",
       "       5.37018529e-01, 5.35102157e-01, 5.77119804e-01, 5.80286830e-01,\n",
       "       4.56083627e-01, 3.78142386e-01, 2.33667745e-01, 2.78846078e-01,\n",
       "       1.88298431e-01, 5.48689052e-01, 6.09187451e-01, 4.38746863e-01,\n",
       "       4.17066503e-01, 4.31270392e-01, 4.87547941e-01, 5.68798464e-01,\n",
       "       4.37693235e-01, 3.29578399e-01, 3.34008562e-01, 1.74470392e-01,\n",
       "       1.13850556e-01, 3.38266667e-02, 3.35411765e-03, 2.60618627e-02,\n",
       "       5.62609455e-01, 5.61226569e-01, 5.38996460e-01, 5.75091296e-01,\n",
       "       4.94095261e-01, 5.21425218e-01, 5.16539237e-01, 5.49194412e-01,\n",
       "       5.61330828e-01, 5.72119869e-01, 2.11414837e-01, 3.38723856e-01,\n",
       "       2.84189760e-01, 1.43374967e-01, 6.37460153e-01, 5.94318115e-01,\n",
       "       4.18868431e-01, 4.05383148e-01, 4.79951993e-01, 5.34202680e-01,\n",
       "       6.25908181e-01, 8.34969782e-01, 8.44976732e-01, 5.49521721e-01,\n",
       "       3.80521950e-01, 1.77976078e-01, 1.19155730e-01, 3.10843246e-02,\n",
       "       1.39533660e-02, 8.47035185e-02, 6.34859074e-01, 5.98780719e-01,\n",
       "       5.97227527e-01, 5.44660054e-01, 5.91377810e-01, 5.07688039e-01,\n",
       "       4.90694150e-01, 5.24459150e-01, 5.80867451e-01, 3.46192952e-01,\n",
       "       5.84290850e-02, 2.48127309e-01, 3.74818508e-01, 5.62358007e-01,\n",
       "       4.87188094e-01, 4.00581373e-01, 4.22145980e-01, 5.01783268e-01,\n",
       "       5.75425447e-01, 6.17980392e-01, 8.14019586e-01, 9.30543017e-01,\n",
       "       9.26200752e-01, 8.00611133e-01, 3.93345054e-01, 2.16974248e-01,\n",
       "       1.07616166e-01, 2.34264815e-02, 6.68627451e-02, 1.13986928e-01,\n",
       "       7.30909379e-01, 7.18996765e-01, 7.36729216e-01, 7.36366634e-01,\n",
       "       5.70770196e-01, 4.71317026e-01, 4.88407582e-01, 4.58807059e-01,\n",
       "       5.40521797e-01, 2.26754673e-01, 2.97377745e-01, 4.84821078e-01,\n",
       "       4.38787157e-01, 3.84058039e-01, 3.81634216e-01, 4.45704346e-01,\n",
       "       5.27704706e-01, 6.02090686e-01, 6.70150163e-01, 8.00390882e-01,\n",
       "       9.59400392e-01, 9.53145850e-01, 9.13048627e-01, 8.84553105e-01,\n",
       "       5.03812353e-01, 2.52123627e-01, 7.85625490e-02, 3.48813072e-02,\n",
       "       8.71909804e-02, 9.61578758e-02, 6.78302429e-01, 6.69309967e-01,\n",
       "       6.58017560e-01, 6.63197887e-01, 5.33723595e-01, 4.90754303e-01,\n",
       "       4.93331318e-01, 4.50594477e-01, 5.45867636e-01, 5.78345131e-01,\n",
       "       5.60388301e-01, 4.67723976e-01, 4.00355425e-01, 3.95822745e-01,\n",
       "       3.82457974e-01, 4.74666808e-01, 5.14106503e-01, 6.28117974e-01,\n",
       "       7.97955523e-01, 9.09776307e-01, 9.77759020e-01, 9.57798671e-01,\n",
       "       9.08064967e-01, 9.23124390e-01, 6.04829466e-01, 1.99490490e-01,\n",
       "       3.93761765e-02, 5.39491830e-02, 8.45200654e-02, 1.58059837e-01])"
      ]
     },
     "execution_count": 29,
     "metadata": {},
     "output_type": "execute_result"
    }
   ],
   "source": [
    "image_row"
   ]
  },
  {
   "cell_type": "code",
   "execution_count": 30,
   "metadata": {},
   "outputs": [
    {
     "name": "stdout",
     "output_type": "stream",
     "text": [
      "  Number  String Boolean\n",
      "0      1   First    True\n",
      "1      2  Second   False\n",
      "2      3   Third    True\n",
      "3      4  Fourth   False\n"
     ]
    }
   ],
   "source": [
    "## Access web\n",
    "from lxml import objectify\n",
    "import pandas as pd\n",
    "\n",
    "xml = objectify.parse(open('XMLData.xml'))\n",
    "root = xml.getroot()\n",
    "df = pd.DataFrame(columns=('Number', 'String', 'Boolean'))\n",
    "\n",
    "for i in range(0,4):\n",
    "    obj = root.getchildren()[i].getchildren()\n",
    "    row = dict(zip(['Number', 'String', 'Boolean'], \n",
    "                   [obj[0].text, obj[1].text, \n",
    "                    obj[2].text]))\n",
    "    row_s = pd.Series(row)\n",
    "    row_s.name = i\n",
    "    df = df.append(row_s)\n",
    "    \n",
    "print (df)"
   ]
  },
  {
   "cell_type": "code",
   "execution_count": null,
   "metadata": {},
   "outputs": [],
   "source": []
  },
  {
   "cell_type": "code",
   "execution_count": null,
   "metadata": {},
   "outputs": [],
   "source": []
  }
 ],
 "metadata": {
  "kernelspec": {
   "display_name": "Python 3",
   "language": "python",
   "name": "python3"
  },
  "language_info": {
   "codemirror_mode": {
    "name": "ipython",
    "version": 3
   },
   "file_extension": ".py",
   "mimetype": "text/x-python",
   "name": "python",
   "nbconvert_exporter": "python",
   "pygments_lexer": "ipython3",
   "version": "3.7.1"
  }
 },
 "nbformat": 4,
 "nbformat_minor": 2
}
